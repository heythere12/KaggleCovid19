{
  "nbformat": 4,
  "nbformat_minor": 0,
  "metadata": {
    "colab": {
      "name": "Covid19 India",
      "provenance": [],
      "collapsed_sections": []
    },
    "kernelspec": {
      "name": "python3",
      "display_name": "Python 3"
    }
  },
  "cells": [
    {
      "cell_type": "code",
      "metadata": {
        "id": "lG2WAYdJeESW",
        "colab_type": "code",
        "outputId": "a7aec75e-9b29-437c-8317-7c74a4fb5df5",
        "colab": {
          "base_uri": "https://localhost:8080/",
          "height": 428
        }
      },
      "source": [
        "import pandas as pd\n",
        "import numpy as np\n",
        "import seaborn as sns\n",
        "import matplotlib.pyplot as plt\n",
        "data = pd.read_csv('data.csv')\n",
        "data.head()"
      ],
      "execution_count": 0,
      "outputs": [
        {
          "output_type": "execute_result",
          "data": {
            "text/html": [
              "<div>\n",
              "<style scoped>\n",
              "    .dataframe tbody tr th:only-of-type {\n",
              "        vertical-align: middle;\n",
              "    }\n",
              "\n",
              "    .dataframe tbody tr th {\n",
              "        vertical-align: top;\n",
              "    }\n",
              "\n",
              "    .dataframe thead th {\n",
              "        text-align: right;\n",
              "    }\n",
              "</style>\n",
              "<table border=\"1\" class=\"dataframe\">\n",
              "  <thead>\n",
              "    <tr style=\"text-align: right;\">\n",
              "      <th></th>\n",
              "      <th>id</th>\n",
              "      <th>unique_id</th>\n",
              "      <th>government_id</th>\n",
              "      <th>diagnosed_date</th>\n",
              "      <th>age</th>\n",
              "      <th>gender</th>\n",
              "      <th>detected_city</th>\n",
              "      <th>detected_city_pt</th>\n",
              "      <th>detected_district</th>\n",
              "      <th>detected_state</th>\n",
              "      <th>nationality</th>\n",
              "      <th>current_status</th>\n",
              "      <th>status_change_date</th>\n",
              "      <th>notes</th>\n",
              "      <th>current_location</th>\n",
              "      <th>current_location_pt</th>\n",
              "      <th>contacts</th>\n",
              "    </tr>\n",
              "  </thead>\n",
              "  <tbody>\n",
              "    <tr>\n",
              "      <th>0</th>\n",
              "      <td>1</td>\n",
              "      <td>1</td>\n",
              "      <td>KL-TS-P1</td>\n",
              "      <td>2020-01-30</td>\n",
              "      <td>20.0</td>\n",
              "      <td>Female</td>\n",
              "      <td>Thrissur</td>\n",
              "      <td>SRID=4326;POINT (76.21325419999999 10.5256264)</td>\n",
              "      <td>Thrissur</td>\n",
              "      <td>Kerala</td>\n",
              "      <td>India</td>\n",
              "      <td>Recovered</td>\n",
              "      <td>2020-02-14</td>\n",
              "      <td>Travelled from Wuhan.\\nStudent from Wuhan</td>\n",
              "      <td>NaN</td>\n",
              "      <td>SRID=4326;POINT (76.21325419999999 10.5256264)</td>\n",
              "      <td>[]</td>\n",
              "    </tr>\n",
              "    <tr>\n",
              "      <th>1</th>\n",
              "      <td>2</td>\n",
              "      <td>2</td>\n",
              "      <td>KL-AL-P1</td>\n",
              "      <td>2020-02-02</td>\n",
              "      <td>NaN</td>\n",
              "      <td>Unknown</td>\n",
              "      <td>Alappuzha</td>\n",
              "      <td>SRID=4326;POINT (76.333482 9.498000100000001)</td>\n",
              "      <td>Alappuzha</td>\n",
              "      <td>Kerala</td>\n",
              "      <td>India</td>\n",
              "      <td>Recovered</td>\n",
              "      <td>2020-02-14</td>\n",
              "      <td>Travelled from Wuhan.\\nStudent from Wuhan</td>\n",
              "      <td>NaN</td>\n",
              "      <td>SRID=4326;POINT (76.333482 9.498000100000001)</td>\n",
              "      <td>[]</td>\n",
              "    </tr>\n",
              "    <tr>\n",
              "      <th>2</th>\n",
              "      <td>3</td>\n",
              "      <td>3</td>\n",
              "      <td>KL-KS-P1</td>\n",
              "      <td>2020-02-03</td>\n",
              "      <td>NaN</td>\n",
              "      <td>Unknown</td>\n",
              "      <td>Kasaragod</td>\n",
              "      <td>SRID=4326;POINT (80 20)</td>\n",
              "      <td>Kasaragod</td>\n",
              "      <td>Kerala</td>\n",
              "      <td>India</td>\n",
              "      <td>Recovered</td>\n",
              "      <td>2020-02-14</td>\n",
              "      <td>Travelled from Wuhan.\\nStudent from Wuhan</td>\n",
              "      <td>NaN</td>\n",
              "      <td>SRID=4326;POINT (80 20)</td>\n",
              "      <td>[]</td>\n",
              "    </tr>\n",
              "    <tr>\n",
              "      <th>3</th>\n",
              "      <td>4</td>\n",
              "      <td>4</td>\n",
              "      <td>DL-P1</td>\n",
              "      <td>2020-03-02</td>\n",
              "      <td>45.0</td>\n",
              "      <td>Male</td>\n",
              "      <td>East Delhi (Mayur Vihar)</td>\n",
              "      <td>SRID=4326;POINT (80 20)</td>\n",
              "      <td>East Delhi</td>\n",
              "      <td>Delhi</td>\n",
              "      <td>India</td>\n",
              "      <td>Recovered</td>\n",
              "      <td>2020-03-15</td>\n",
              "      <td>Travelled from Austria, Italy.\\nTravel history...</td>\n",
              "      <td>NaN</td>\n",
              "      <td>SRID=4326;POINT (80 20)</td>\n",
              "      <td>[22,23,24,25,26,27,47]</td>\n",
              "    </tr>\n",
              "    <tr>\n",
              "      <th>4</th>\n",
              "      <td>5</td>\n",
              "      <td>5</td>\n",
              "      <td>TS-P1</td>\n",
              "      <td>2020-03-02</td>\n",
              "      <td>24.0</td>\n",
              "      <td>Male</td>\n",
              "      <td>Hyderabad</td>\n",
              "      <td>SRID=4326;POINT (78.4349398685041 17.4263524)</td>\n",
              "      <td>Hyderabad</td>\n",
              "      <td>Telangana</td>\n",
              "      <td>India</td>\n",
              "      <td>Recovered</td>\n",
              "      <td>2020-03-02</td>\n",
              "      <td>.\\nTravel history to Dubai, Singapore contact</td>\n",
              "      <td>NaN</td>\n",
              "      <td>SRID=4326;POINT (78.4349398685041 17.4263524)</td>\n",
              "      <td>[]</td>\n",
              "    </tr>\n",
              "  </tbody>\n",
              "</table>\n",
              "</div>"
            ],
            "text/plain": [
              "   id  ...                contacts\n",
              "0   1  ...                      []\n",
              "1   2  ...                      []\n",
              "2   3  ...                      []\n",
              "3   4  ...  [22,23,24,25,26,27,47]\n",
              "4   5  ...                      []\n",
              "\n",
              "[5 rows x 17 columns]"
            ]
          },
          "metadata": {
            "tags": []
          },
          "execution_count": 47
        }
      ]
    },
    {
      "cell_type": "code",
      "metadata": {
        "id": "NTaBdiyQeVUJ",
        "colab_type": "code",
        "outputId": "47c2d907-0886-4707-d475-17f9b35356db",
        "colab": {
          "base_uri": "https://localhost:8080/",
          "height": 34
        }
      },
      "source": [
        "#sns.pairplot(data, hue='gender', size=2.5);\n",
        "\n",
        "#grid = sns.FacetGrid(data, row=\"gender\", col=\"diagnosed_date\", margin_titles=True)\n",
        "\n"
      ],
      "execution_count": 0,
      "outputs": [
        {
          "output_type": "execute_result",
          "data": {
            "text/plain": [
              "pandas.core.series.Series"
            ]
          },
          "metadata": {
            "tags": []
          },
          "execution_count": 83
        }
      ]
    },
    {
      "cell_type": "code",
      "metadata": {
        "id": "MTNqXlMGe0Nu",
        "colab_type": "code",
        "outputId": "b4154243-cc29-42ea-9173-c82df0ffba35",
        "colab": {
          "base_uri": "https://localhost:8080/",
          "height": 643
        }
      },
      "source": [
        "with sns.axes_style('white'):\n",
        "    g = sns.factorplot(y =\"detected_state\", data=data, aspect=1.5,\n",
        "                       kind=\"count\", color='red', height=8, hue='gender')\n",
        "    g.set_xticklabels(step=1)\n",
        "plt.figure(figsize=(16,6))\n"
      ],
      "execution_count": 0,
      "outputs": [
        {
          "output_type": "stream",
          "text": [
            "/usr/local/lib/python3.6/dist-packages/seaborn/categorical.py:3669: UserWarning: The `factorplot` function has been renamed to `catplot`. The original name will be removed in a future release. Please update your code. Note that the default `kind` in `factorplot` (`'point'`) has changed `'strip'` in `catplot`.\n",
            "  warnings.warn(msg)\n"
          ],
          "name": "stderr"
        },
        {
          "output_type": "execute_result",
          "data": {
            "text/plain": [
              "<Figure size 1152x432 with 0 Axes>"
            ]
          },
          "metadata": {
            "tags": []
          },
          "execution_count": 58
        },
        {
          "output_type": "display_data",
          "data": {
            "image/png": "[encoded data removed]",
            "text/plain": [
              "<Figure size 946.375x576 with 1 Axes>"
            ]
          },
          "metadata": {
            "tags": []
          }
        },
        {
          "output_type": "display_data",
          "data": {
            "text/plain": [
              "<Figure size 1152x432 with 0 Axes>"
            ]
          },
          "metadata": {
            "tags": []
          }
        }
      ]
    },
    {
      "cell_type": "code",
      "metadata": {
        "id": "GL1OyVs_s4UK",
        "colab_type": "code",
        "colab": {}
      },
      "source": [
        "from google.colab import drive\n",
        "drive.mount('/content/drive')"
      ],
      "execution_count": 0,
      "outputs": []
    },
    {
      "cell_type": "code",
      "metadata": {
        "id": "t-rj24zU45vn",
        "colab_type": "code",
        "colab": {}
      },
      "source": [
        "from datetime import date\n",
        "data['diagnosed_date'] = pd.to_datetime(data['diagnosed_date']).dt.strftime(\"%Y%m%d\")\n",
        "data['status_change_date'] = pd.to_datetime(data['status_change_date']).dt.strftime(\"%Y%m%d\")\n",
        "x = (data['diagnosed_date'])\n",
        "x\n",
        "y = (data['status_change_date'])\n",
        "#data['Difference'] = x.sub(y, axis=0)\n"
      ],
      "execution_count": 0,
      "outputs": []
    },
    {
      "cell_type": "code",
      "metadata": {
        "id": "Q7pQU5SR2tFm",
        "colab_type": "code",
        "outputId": "8bc858b4-80ab-4802-ad5a-bedf69c09257",
        "colab": {
          "base_uri": "https://localhost:8080/",
          "height": 51
        }
      },
      "source": [
        "age = data.loc[(data.age >= 91.0) & (data.age<=100.0), ['id']]\n",
        "age.count()"
      ],
      "execution_count": 0,
      "outputs": [
        {
          "output_type": "execute_result",
          "data": {
            "text/plain": [
              "id    1\n",
              "dtype: int64"
            ]
          },
          "metadata": {
            "tags": []
          },
          "execution_count": 79
        }
      ]
    },
    {
      "cell_type": "markdown",
      "metadata": {
        "id": "L2PFIDDb4UfY",
        "colab_type": "text"
      },
      "source": [
        "0 - 10  14 cases\n",
        "\n",
        "11 - 20 44 cases \n",
        "\n",
        "21 - 30 129 cases\n",
        "\n",
        "31 - 40 94 cases\n",
        "\n",
        "41 - 50 66 cases\n",
        "\n",
        "51 - 60 74 cases\n",
        "\n",
        "61 - 70 58 cases\n",
        "\n",
        "71 - 80 9 cases\n",
        "\n",
        "81 - 90 4 cases\n",
        "\n",
        "90 - 100 1 cases"
      ]
    },
    {
      "cell_type": "code",
      "metadata": {
        "id": "x3v52jTT5jJS",
        "colab_type": "code",
        "outputId": "22fb8c1c-9423-44b0-cd55-b90d183b8631",
        "colab": {
          "base_uri": "https://localhost:8080/",
          "height": 500
        }
      },
      "source": [
        "df = pd.DataFrame([14,44,129,94,66,74,58,9,4,1], index=['0-10', '11-20', '21-30', '31-40', '41-50'\n",
        ", '51-60', '61-70', '71-80', '81-90', '91-100'], columns=['x'])\n",
        " \n",
        "# make the plot\n",
        "df.plot(kind='pie', subplots=True, figsize=(8, 8))\n"
      ],
      "execution_count": 0,
      "outputs": [
        {
          "output_type": "execute_result",
          "data": {
            "text/plain": [
              "array([<matplotlib.axes._subplots.AxesSubplot object at 0x7fa9c033bd30>],\n",
              "      dtype=object)"
            ]
          },
          "metadata": {
            "tags": []
          },
          "execution_count": 80
        },
        {
          "output_type": "display_data",
          "data": {
            "image/png": "[encoded data removed]",
            "text/plain": [
              "<Figure size 576x576 with 1 Axes>"
            ]
          },
          "metadata": {
            "tags": []
          }
        }
      ]
    },
    {
      "cell_type": "markdown",
      "metadata": {
        "id": "i9tRUrJb6F40",
        "colab_type": "text"
      },
      "source": [
        "**Covid19** **cases** **based** **on** **Age**\n",
        "\n",
        "\n"
      ]
    },
    {
      "cell_type": "code",
      "metadata": {
        "id": "ZsPROsKBsZgE",
        "colab_type": "code",
        "outputId": "f391ea5e-49d0-4798-e5a2-dcd41195055b",
        "colab": {
          "base_uri": "https://localhost:8080/",
          "height": 51
        }
      },
      "source": [
        "x = data.groupby('current_status').count()\n",
        "first =data.loc[data.current_status=='Deceased',['id']]\n",
        "y = first.count()\n",
        "y"
      ],
      "execution_count": 0,
      "outputs": [
        {
          "output_type": "execute_result",
          "data": {
            "text/plain": [
              "id    18\n",
              "dtype: int64"
            ]
          },
          "metadata": {
            "tags": []
          },
          "execution_count": 72
        }
      ]
    },
    {
      "cell_type": "code",
      "metadata": {
        "id": "OxoGnAPCxvb8",
        "colab_type": "code",
        "outputId": "7ac1a68e-68fb-42cd-ce4d-66ad2ba7759e",
        "colab": {
          "base_uri": "https://localhost:8080/",
          "height": 500
        }
      },
      "source": [
        "Male = (data['current_status'] == 'Deceased') & (data['gender'] == 'Female')\n",
        "Male = len(data.loc[Male])\n",
        "Male\n",
        "\n",
        "\n",
        "df = pd.DataFrame([18,31,975], index=['Deceased', 'Recovered', 'Hospitalized'], columns=['x'])\n",
        " \n",
        "# make the plot\n",
        "df.plot(kind='pie', subplots=True, figsize=(8, 8))\n"
      ],
      "execution_count": 0,
      "outputs": [
        {
          "output_type": "execute_result",
          "data": {
            "text/plain": [
              "array([<matplotlib.axes._subplots.AxesSubplot object at 0x7fa9c03916a0>],\n",
              "      dtype=object)"
            ]
          },
          "metadata": {
            "tags": []
          },
          "execution_count": 93
        },
        {
          "output_type": "display_data",
          "data": {
            "image/png": "[encoded data removed]",
            "text/plain": [
              "<Figure size 576x576 with 1 Axes>"
            ]
          },
          "metadata": {
            "tags": []
          }
        }
      ]
    },
    {
      "cell_type": "markdown",
      "metadata": {
        "id": "lWwQUrTdxIjl",
        "colab_type": "text"
      },
      "source": [
        "**Deceased** - **18** Male - 14 Female - 4\n",
        "\n",
        "**Recovered** - **31**.  Male - 17 Female - 7\n",
        "\n",
        "**Hospitalized** - **975** Male - 308 Female - 165\n",
        "\n"
      ]
    },
    {
      "cell_type": "code",
      "metadata": {
        "id": "8lkKFJiauEEv",
        "colab_type": "code",
        "colab": {}
      },
      "source": [
        "School = (data['diagnosed_date'] > '2020-01-30') & (data['diagnosed_date'] <= '2020-03-08') \n",
        "School = len(data.loc[School])\n",
        "Public = (data['diagnosed_date'] > '2020-01-30') & (data['diagnosed_date'] <= '2020-03-12')\n",
        "Public = len(data.loc[Public])\n",
        "WFH = (data['diagnosed_date'] > '2020-01-30') & (data['diagnosed_date'] <= '2020-03-15')\n",
        "WFH = len(data.loc[WFH])\n",
        "Lockdown = (data['diagnosed_date'] > '2020-01-30') & (data['diagnosed_date'] <= '2020-03-28') \n",
        "Lockdown = len(data.loc[Lockdown])\n",
        "\n"
      ],
      "execution_count": 0,
      "outputs": []
    },
    {
      "cell_type": "code",
      "metadata": {
        "id": "pezKGAi5dHXW",
        "colab_type": "code",
        "colab": {}
      },
      "source": [
        "CaseCount = [School,Public,WFH,Lockdown]\n",
        "\n"
      ],
      "execution_count": 0,
      "outputs": []
    },
    {
      "cell_type": "code",
      "metadata": {
        "id": "I8VGS2DRuV5v",
        "colab_type": "code",
        "colab": {}
      },
      "source": [
        "labels = ['schools shutdown','public places shutdown',\n",
        "            'work from home started','country under lockdown']\n",
        "dates = ['2020-03-09','2020-03-13','2020-03-15','2020-03-28']"
      ],
      "execution_count": 0,
      "outputs": []
    },
    {
      "cell_type": "code",
      "metadata": {
        "id": "SJexJtKYuPq6",
        "colab_type": "code",
        "outputId": "3fc59d14-fd1f-43a0-ae12-95445561acf0",
        "colab": {
          "base_uri": "https://localhost:8080/",
          "height": 173
        }
      },
      "source": [
        "plot = pd.DataFrame({'dates':dates,'Labels': labels, 'CaseCount': CaseCount})\n",
        "plot"
      ],
      "execution_count": 0,
      "outputs": [
        {
          "output_type": "execute_result",
          "data": {
            "text/html": [
              "<div>\n",
              "<style scoped>\n",
              "    .dataframe tbody tr th:only-of-type {\n",
              "        vertical-align: middle;\n",
              "    }\n",
              "\n",
              "    .dataframe tbody tr th {\n",
              "        vertical-align: top;\n",
              "    }\n",
              "\n",
              "    .dataframe thead th {\n",
              "        text-align: right;\n",
              "    }\n",
              "</style>\n",
              "<table border=\"1\" class=\"dataframe\">\n",
              "  <thead>\n",
              "    <tr style=\"text-align: right;\">\n",
              "      <th></th>\n",
              "      <th>dates</th>\n",
              "      <th>Labels</th>\n",
              "      <th>CaseCount</th>\n",
              "    </tr>\n",
              "  </thead>\n",
              "  <tbody>\n",
              "    <tr>\n",
              "      <th>0</th>\n",
              "      <td>2020-03-09</td>\n",
              "      <td>schools shutdown</td>\n",
              "      <td>38</td>\n",
              "    </tr>\n",
              "    <tr>\n",
              "      <th>1</th>\n",
              "      <td>2020-03-13</td>\n",
              "      <td>public places shutdown</td>\n",
              "      <td>81</td>\n",
              "    </tr>\n",
              "    <tr>\n",
              "      <th>2</th>\n",
              "      <td>2020-03-15</td>\n",
              "      <td>work from home started</td>\n",
              "      <td>112</td>\n",
              "    </tr>\n",
              "    <tr>\n",
              "      <th>3</th>\n",
              "      <td>2020-03-28</td>\n",
              "      <td>country under lockdown</td>\n",
              "      <td>1024</td>\n",
              "    </tr>\n",
              "  </tbody>\n",
              "</table>\n",
              "</div>"
            ],
            "text/plain": [
              "        dates                  Labels  CaseCount\n",
              "0  2020-03-09        schools shutdown         38\n",
              "1  2020-03-13  public places shutdown         81\n",
              "2  2020-03-15  work from home started        112\n",
              "3  2020-03-28  country under lockdown       1024"
            ]
          },
          "metadata": {
            "tags": []
          },
          "execution_count": 61
        }
      ]
    },
    {
      "cell_type": "code",
      "metadata": {
        "id": "i0OHvGWnuYeS",
        "colab_type": "code",
        "outputId": "ae5ad3c2-c396-448f-a846-98de0d23e4b5",
        "colab": {
          "base_uri": "https://localhost:8080/",
          "height": 423
        }
      },
      "source": [
        "with sns.axes_style('white'):\n",
        "    g = sns.factorplot(y =\"dates\", x = CaseCount, data=plot, aspect=1, color='blue', height=5, hue='Labels')\n",
        "    g.set_xticklabels(step=1)\n"
      ],
      "execution_count": 0,
      "outputs": [
        {
          "output_type": "stream",
          "text": [
            "/usr/local/lib/python3.6/dist-packages/seaborn/categorical.py:3669: UserWarning: The `factorplot` function has been renamed to `catplot`. The original name will be removed in a future release. Please update your code. Note that the default `kind` in `factorplot` (`'point'`) has changed `'strip'` in `catplot`.\n",
            "  warnings.warn(msg)\n"
          ],
          "name": "stderr"
        },
        {
          "output_type": "display_data",
          "data": {
            "image/png": "[encoded data removed]",
            "text/plain": [
              "<Figure size 516.75x360 with 1 Axes>"
            ]
          },
          "metadata": {
            "tags": []
          }
        }
      ]
    },
    {
      "cell_type": "code",
      "metadata": {
        "id": "bYq3-MR5IdLq",
        "colab_type": "code",
        "outputId": "a73b258c-aa76-447c-fae0-207e94a38227",
        "colab": {
          "base_uri": "https://localhost:8080/",
          "height": 813
        }
      },
      "source": [
        "data['diagnosed_date'] = pd.to_datetime(data['diagnosed_date'])\n",
        "data['status_change_date'] = pd.to_datetime(data['status_change_date'])\n",
        "data['days'] = data['diagnosed_date'] - data['status_change_date']\n"
      ],
      "execution_count": 0,
      "outputs": [
        {
          "output_type": "execute_result",
          "data": {
            "text/html": [
              "<div>\n",
              "<style scoped>\n",
              "    .dataframe tbody tr th:only-of-type {\n",
              "        vertical-align: middle;\n",
              "    }\n",
              "\n",
              "    .dataframe tbody tr th {\n",
              "        vertical-align: top;\n",
              "    }\n",
              "\n",
              "    .dataframe thead th {\n",
              "        text-align: right;\n",
              "    }\n",
              "</style>\n",
              "<table border=\"1\" class=\"dataframe\">\n",
              "  <thead>\n",
              "    <tr style=\"text-align: right;\">\n",
              "      <th></th>\n",
              "      <th>id</th>\n",
              "      <th>unique_id</th>\n",
              "      <th>government_id</th>\n",
              "      <th>diagnosed_date</th>\n",
              "      <th>age</th>\n",
              "      <th>gender</th>\n",
              "      <th>detected_city</th>\n",
              "      <th>detected_city_pt</th>\n",
              "      <th>detected_district</th>\n",
              "      <th>detected_state</th>\n",
              "      <th>nationality</th>\n",
              "      <th>current_status</th>\n",
              "      <th>status_change_date</th>\n",
              "      <th>notes</th>\n",
              "      <th>current_location</th>\n",
              "      <th>current_location_pt</th>\n",
              "      <th>contacts</th>\n",
              "      <th>days</th>\n",
              "    </tr>\n",
              "  </thead>\n",
              "  <tbody>\n",
              "    <tr>\n",
              "      <th>0</th>\n",
              "      <td>1</td>\n",
              "      <td>1</td>\n",
              "      <td>KL-TS-P1</td>\n",
              "      <td>2020-01-30</td>\n",
              "      <td>20.0</td>\n",
              "      <td>Female</td>\n",
              "      <td>Thrissur</td>\n",
              "      <td>SRID=4326;POINT (76.21325419999999 10.5256264)</td>\n",
              "      <td>Thrissur</td>\n",
              "      <td>Kerala</td>\n",
              "      <td>India</td>\n",
              "      <td>Recovered</td>\n",
              "      <td>2020-02-14</td>\n",
              "      <td>Travelled from Wuhan.\\nStudent from Wuhan</td>\n",
              "      <td>NaN</td>\n",
              "      <td>SRID=4326;POINT (76.21325419999999 10.5256264)</td>\n",
              "      <td>[]</td>\n",
              "      <td>-15 days</td>\n",
              "    </tr>\n",
              "    <tr>\n",
              "      <th>1</th>\n",
              "      <td>2</td>\n",
              "      <td>2</td>\n",
              "      <td>KL-AL-P1</td>\n",
              "      <td>2020-02-02</td>\n",
              "      <td>NaN</td>\n",
              "      <td>Unknown</td>\n",
              "      <td>Alappuzha</td>\n",
              "      <td>SRID=4326;POINT (76.333482 9.498000100000001)</td>\n",
              "      <td>Alappuzha</td>\n",
              "      <td>Kerala</td>\n",
              "      <td>India</td>\n",
              "      <td>Recovered</td>\n",
              "      <td>2020-02-14</td>\n",
              "      <td>Travelled from Wuhan.\\nStudent from Wuhan</td>\n",
              "      <td>NaN</td>\n",
              "      <td>SRID=4326;POINT (76.333482 9.498000100000001)</td>\n",
              "      <td>[]</td>\n",
              "      <td>-12 days</td>\n",
              "    </tr>\n",
              "    <tr>\n",
              "      <th>2</th>\n",
              "      <td>3</td>\n",
              "      <td>3</td>\n",
              "      <td>KL-KS-P1</td>\n",
              "      <td>2020-02-03</td>\n",
              "      <td>NaN</td>\n",
              "      <td>Unknown</td>\n",
              "      <td>Kasaragod</td>\n",
              "      <td>SRID=4326;POINT (80 20)</td>\n",
              "      <td>Kasaragod</td>\n",
              "      <td>Kerala</td>\n",
              "      <td>India</td>\n",
              "      <td>Recovered</td>\n",
              "      <td>2020-02-14</td>\n",
              "      <td>Travelled from Wuhan.\\nStudent from Wuhan</td>\n",
              "      <td>NaN</td>\n",
              "      <td>SRID=4326;POINT (80 20)</td>\n",
              "      <td>[]</td>\n",
              "      <td>-11 days</td>\n",
              "    </tr>\n",
              "    <tr>\n",
              "      <th>3</th>\n",
              "      <td>4</td>\n",
              "      <td>4</td>\n",
              "      <td>DL-P1</td>\n",
              "      <td>2020-03-02</td>\n",
              "      <td>45.0</td>\n",
              "      <td>Male</td>\n",
              "      <td>East Delhi (Mayur Vihar)</td>\n",
              "      <td>SRID=4326;POINT (80 20)</td>\n",
              "      <td>East Delhi</td>\n",
              "      <td>Delhi</td>\n",
              "      <td>India</td>\n",
              "      <td>Recovered</td>\n",
              "      <td>2020-03-15</td>\n",
              "      <td>Travelled from Austria, Italy.\\nTravel history...</td>\n",
              "      <td>NaN</td>\n",
              "      <td>SRID=4326;POINT (80 20)</td>\n",
              "      <td>[22,23,24,25,26,27,47]</td>\n",
              "      <td>-13 days</td>\n",
              "    </tr>\n",
              "    <tr>\n",
              "      <th>4</th>\n",
              "      <td>5</td>\n",
              "      <td>5</td>\n",
              "      <td>TS-P1</td>\n",
              "      <td>2020-03-02</td>\n",
              "      <td>24.0</td>\n",
              "      <td>Male</td>\n",
              "      <td>Hyderabad</td>\n",
              "      <td>SRID=4326;POINT (78.4349398685041 17.4263524)</td>\n",
              "      <td>Hyderabad</td>\n",
              "      <td>Telangana</td>\n",
              "      <td>India</td>\n",
              "      <td>Recovered</td>\n",
              "      <td>2020-03-02</td>\n",
              "      <td>.\\nTravel history to Dubai, Singapore contact</td>\n",
              "      <td>NaN</td>\n",
              "      <td>SRID=4326;POINT (78.4349398685041 17.4263524)</td>\n",
              "      <td>[]</td>\n",
              "      <td>0 days</td>\n",
              "    </tr>\n",
              "    <tr>\n",
              "      <th>...</th>\n",
              "      <td>...</td>\n",
              "      <td>...</td>\n",
              "      <td>...</td>\n",
              "      <td>...</td>\n",
              "      <td>...</td>\n",
              "      <td>...</td>\n",
              "      <td>...</td>\n",
              "      <td>...</td>\n",
              "      <td>...</td>\n",
              "      <td>...</td>\n",
              "      <td>...</td>\n",
              "      <td>...</td>\n",
              "      <td>...</td>\n",
              "      <td>...</td>\n",
              "      <td>...</td>\n",
              "      <td>...</td>\n",
              "      <td>...</td>\n",
              "      <td>...</td>\n",
              "    </tr>\n",
              "    <tr>\n",
              "      <th>1020</th>\n",
              "      <td>1021</td>\n",
              "      <td>1021</td>\n",
              "      <td>NaN</td>\n",
              "      <td>2020-03-28</td>\n",
              "      <td>NaN</td>\n",
              "      <td>Unknown</td>\n",
              "      <td>NaN</td>\n",
              "      <td>SRID=4326;POINT (80.859666 27.1303344)</td>\n",
              "      <td>Meerut</td>\n",
              "      <td>Uttar Pradesh</td>\n",
              "      <td>NaN</td>\n",
              "      <td>Hospitalized</td>\n",
              "      <td>2020-03-28</td>\n",
              "      <td>Brother-in-law of P983</td>\n",
              "      <td>NaN</td>\n",
              "      <td>SRID=4326;POINT (80.859666 27.1303344)</td>\n",
              "      <td>[983]</td>\n",
              "      <td>0 days</td>\n",
              "    </tr>\n",
              "    <tr>\n",
              "      <th>1021</th>\n",
              "      <td>1022</td>\n",
              "      <td>1022</td>\n",
              "      <td>NaN</td>\n",
              "      <td>2020-03-28</td>\n",
              "      <td>NaN</td>\n",
              "      <td>Unknown</td>\n",
              "      <td>NaN</td>\n",
              "      <td>SRID=4326;POINT (85.906508 25.6440845)</td>\n",
              "      <td>NaN</td>\n",
              "      <td>Bihar</td>\n",
              "      <td>NaN</td>\n",
              "      <td>Hospitalized</td>\n",
              "      <td>2020-03-28</td>\n",
              "      <td>Details awaited</td>\n",
              "      <td>NaN</td>\n",
              "      <td>SRID=4326;POINT (85.906508 25.6440845)</td>\n",
              "      <td>[]</td>\n",
              "      <td>0 days</td>\n",
              "    </tr>\n",
              "    <tr>\n",
              "      <th>1022</th>\n",
              "      <td>1023</td>\n",
              "      <td>1023</td>\n",
              "      <td>NaN</td>\n",
              "      <td>2020-03-28</td>\n",
              "      <td>NaN</td>\n",
              "      <td>Unknown</td>\n",
              "      <td>NaN</td>\n",
              "      <td>SRID=4326;POINT (85.906508 25.6440845)</td>\n",
              "      <td>NaN</td>\n",
              "      <td>Bihar</td>\n",
              "      <td>NaN</td>\n",
              "      <td>Hospitalized</td>\n",
              "      <td>2020-03-28</td>\n",
              "      <td>Details awaited</td>\n",
              "      <td>NaN</td>\n",
              "      <td>SRID=4326;POINT (85.906508 25.6440845)</td>\n",
              "      <td>[]</td>\n",
              "      <td>0 days</td>\n",
              "    </tr>\n",
              "    <tr>\n",
              "      <th>1023</th>\n",
              "      <td>1024</td>\n",
              "      <td>1025</td>\n",
              "      <td>NaN</td>\n",
              "      <td>2020-03-28</td>\n",
              "      <td>21.0</td>\n",
              "      <td>Male</td>\n",
              "      <td>Ambala</td>\n",
              "      <td>SRID=4326;POINT (76.770421 30.3843674)</td>\n",
              "      <td>Ambala</td>\n",
              "      <td>Haryana</td>\n",
              "      <td>NaN</td>\n",
              "      <td>Hospitalized</td>\n",
              "      <td>2020-03-28</td>\n",
              "      <td>resident of Ram Nagar village in Patiala, Punj...</td>\n",
              "      <td>NaN</td>\n",
              "      <td>SRID=4326;POINT (76.770421 30.3843674)</td>\n",
              "      <td>[]</td>\n",
              "      <td>0 days</td>\n",
              "    </tr>\n",
              "    <tr>\n",
              "      <th>1024</th>\n",
              "      <td>1025</td>\n",
              "      <td>1026</td>\n",
              "      <td>NaN</td>\n",
              "      <td>2020-03-28</td>\n",
              "      <td>40.0</td>\n",
              "      <td>Male</td>\n",
              "      <td>NaN</td>\n",
              "      <td>SRID=4326;POINT (77.5340719 23.8143419)</td>\n",
              "      <td>Indore</td>\n",
              "      <td>Madhya Pradesh</td>\n",
              "      <td>NaN</td>\n",
              "      <td>Hospitalized</td>\n",
              "      <td>2020-03-28</td>\n",
              "      <td>contacts of earlier positive cases of \\n</td>\n",
              "      <td>NaN</td>\n",
              "      <td>NaN</td>\n",
              "      <td>NaN</td>\n",
              "      <td>0 days</td>\n",
              "    </tr>\n",
              "  </tbody>\n",
              "</table>\n",
              "<p>1025 rows × 18 columns</p>\n",
              "</div>"
            ],
            "text/plain": [
              "        id  unique_id  ...                contacts     days\n",
              "0        1          1  ...                      [] -15 days\n",
              "1        2          2  ...                      [] -12 days\n",
              "2        3          3  ...                      [] -11 days\n",
              "3        4          4  ...  [22,23,24,25,26,27,47] -13 days\n",
              "4        5          5  ...                      []   0 days\n",
              "...    ...        ...  ...                     ...      ...\n",
              "1020  1021       1021  ...                   [983]   0 days\n",
              "1021  1022       1022  ...                      []   0 days\n",
              "1022  1023       1023  ...                      []   0 days\n",
              "1023  1024       1025  ...                      []   0 days\n",
              "1024  1025       1026  ...                     NaN   0 days\n",
              "\n",
              "[1025 rows x 18 columns]"
            ]
          },
          "metadata": {
            "tags": []
          },
          "execution_count": 89
        }
      ]
    },
    {
      "cell_type": "code",
      "metadata": {
        "id": "Ykk2nBldKL_d",
        "colab_type": "code",
        "colab": {}
      },
      "source": [
        "Male = (data['current_status'] == 'Recovered')\n",
        "first = (data.loc[Male])\n"
      ],
      "execution_count": 0,
      "outputs": []
    },
    {
      "cell_type": "markdown",
      "metadata": {
        "id": "Cf6N5w46OWpB",
        "colab_type": "text"
      },
      "source": [
        "**Average number of days to recover is 13 days**"
      ]
    }
  ]
}